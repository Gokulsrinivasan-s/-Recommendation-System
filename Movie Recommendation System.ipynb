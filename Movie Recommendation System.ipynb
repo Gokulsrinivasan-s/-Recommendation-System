{
 "cells": [
  {
   "cell_type": "code",
   "execution_count": 6,
   "id": "6cc81602-d5e6-4f12-8d6c-139944afa678",
   "metadata": {},
   "outputs": [
    {
     "name": "stdin",
     "output_type": "stream",
     "text": [
      "Enter the movie name: Toy Story (1995)\n"
     ]
    },
    {
     "name": "stdout",
     "output_type": "stream",
     "text": [
      "\n",
      "Movies similar to 'Toy Story (1995)':\n",
      "\n",
      "1706                                       Antz (1998)\n",
      "2355                                Toy Story 2 (1999)\n",
      "2809    Adventures of Rocky and Bullwinkle, The (2000)\n",
      "3000                  Emperor's New Groove, The (2000)\n",
      "3568                             Monsters, Inc. (2001)\n",
      "Name: title, dtype: object\n"
     ]
    }
   ],
   "source": [
    "# Movie Recommendation System using Content-Based Filtering\n",
    "\n",
    "import pandas as pd\n",
    "from sklearn.feature_extraction.text import TfidfVectorizer\n",
    "from sklearn.metrics.pairwise import linear_kernel\n",
    "\n",
    "# Load dataset\n",
    "movies = pd.read_csv(r\"F:\\project.py\\data set predection\\Movie Recommendation system\\movies.csv\")  # Make sure this file is from MovieLens 100K dataset\n",
    "\n",
    "# Combine genres into a single string (some datasets may not have description or tags)\n",
    "movies['genres'] = movies['genres'].fillna('')\n",
    "\n",
    "# TF-IDF Vectorizer to convert text to numeric matrix\n",
    "tfidf = TfidfVectorizer(stop_words='english')\n",
    "tfidf_matrix = tfidf.fit_transform(movies['genres'])\n",
    "\n",
    "# Compute similarity using cosine similarity\n",
    "cosine_sim = linear_kernel(tfidf_matrix, tfidf_matrix)\n",
    "\n",
    "# Create reverse mapping of movie titles to indices\n",
    "indices = pd.Series(movies.index, index=movies['title']).drop_duplicates()\n",
    "\n",
    "# Recommendation function\n",
    "def recommend(title, num_recommendations=5):\n",
    "    if title not in indices:\n",
    "        return f\"'{title}' not found in the movie list.\"\n",
    "    \n",
    "    idx = indices[title]\n",
    "    sim_scores = list(enumerate(cosine_sim[idx]))\n",
    "    sim_scores = sorted(sim_scores, key=lambda x: x[1], reverse=True)\n",
    "    sim_scores = sim_scores[1:num_recommendations+1]\n",
    "    movie_indices = [i[0] for i in sim_scores]\n",
    "    \n",
    "    return movies['title'].iloc[movie_indices]\n",
    "\n",
    "# Example usage\n",
    "movie_to_search = input(\"Enter the movie name:\")\n",
    "print(f\"\\nMovies similar to '{movie_to_search}':\\n\")\n",
    "print(recommend(movie_to_search))\n"
   ]
  },
  {
   "cell_type": "code",
   "execution_count": null,
   "id": "f5d68f35-6ab0-4017-9699-4adc5f72366d",
   "metadata": {},
   "outputs": [],
   "source": []
  }
 ],
 "metadata": {
  "kernelspec": {
   "display_name": "Python 3 (ipykernel)",
   "language": "python",
   "name": "python3"
  },
  "language_info": {
   "codemirror_mode": {
    "name": "ipython",
    "version": 3
   },
   "file_extension": ".py",
   "mimetype": "text/x-python",
   "name": "python",
   "nbconvert_exporter": "python",
   "pygments_lexer": "ipython3",
   "version": "3.12.4"
  }
 },
 "nbformat": 4,
 "nbformat_minor": 5
}
